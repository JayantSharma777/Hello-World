{
  "nbformat": 4,
  "nbformat_minor": 0,
  "metadata": {
    "colab": {
      "name": "ASSIGNMENTS DS LAB",
      "provenance": [],
      "collapsed_sections": [],
      "authorship_tag": "ABX9TyO2H4CIiFzBVtVhbfZH0/zn",
      "include_colab_link": true
    },
    "kernelspec": {
      "name": "python3",
      "display_name": "Python 3"
    },
    "language_info": {
      "name": "python"
    }
  },
  "cells": [
    {
      "cell_type": "markdown",
      "metadata": {
        "id": "view-in-github",
        "colab_type": "text"
      },
      "source": [
        "<a href=\"https://colab.research.google.com/github/JayantSharma777/Hello-World/blob/main/ASSIGNMENTS_DS_LAB.ipynb\" target=\"_parent\"><img src=\"https://colab.research.google.com/assets/colab-badge.svg\" alt=\"Open In Colab\"/></a>"
      ]
    },
    {
      "cell_type": "code",
      "metadata": {
        "id": "Zp0BIG90ttZM"
      },
      "source": [
        "import numpy as np\n",
        "import matplotlib.pyplot as plt\n",
        "import pandas as pd"
      ],
      "execution_count": 1,
      "outputs": []
    },
    {
      "cell_type": "code",
      "metadata": {
        "colab": {
          "base_uri": "https://localhost:8080/"
        },
        "id": "7XZYabgct7Dr",
        "outputId": "f4286eab-fb4c-4fc1-ca4b-5bf0a747a29d"
      },
      "source": [
        "##ASSIGNMENT 1\n",
        "#Q1\n",
        "name=input(\"Ënter your Name \")\n",
        "print(name)\n",
        "print(name)"
      ],
      "execution_count": 4,
      "outputs": [
        {
          "output_type": "stream",
          "text": [
            "Ënter your Name Jayant\n",
            "Jayant\n",
            "Jayant\n"
          ],
          "name": "stdout"
        }
      ]
    },
    {
      "cell_type": "code",
      "metadata": {
        "colab": {
          "base_uri": "https://localhost:8080/",
          "height": 130
        },
        "id": "wk7jx2GEuMD5",
        "outputId": "7c956b69-54e7-4ab8-8e5b-b08074f5be46"
      },
      "source": [
        "#Q2\n",
        "x=1\n",
        " y=2"
      ],
      "execution_count": 5,
      "outputs": [
        {
          "output_type": "error",
          "ename": "IndentationError",
          "evalue": "ignored",
          "traceback": [
            "\u001b[0;36m  File \u001b[0;32m\"<ipython-input-5-a6dc358e0dca>\"\u001b[0;36m, line \u001b[0;32m3\u001b[0m\n\u001b[0;31m    y=2\u001b[0m\n\u001b[0m    ^\u001b[0m\n\u001b[0;31mIndentationError\u001b[0m\u001b[0;31m:\u001b[0m unexpected indent\n"
          ]
        }
      ]
    },
    {
      "cell_type": "code",
      "metadata": {
        "colab": {
          "base_uri": "https://localhost:8080/"
        },
        "id": "xBG5nMrCunWO",
        "outputId": "7fa3de22-7254-4083-b156-f21ca7233e85"
      },
      "source": [
        "#Q3\n",
        "x=1\n",
        "y=2\n",
        "print(\"Addition \",x+y)\n",
        "print(\"Subtraction\",x-y)\n",
        "print(\"Multiplication\",x*y)\n",
        "print(\"Division that returns integers\",x//y)\n",
        "print(\"Division that returns actual value\",x/y)"
      ],
      "execution_count": 9,
      "outputs": [
        {
          "output_type": "stream",
          "text": [
            "Addition  3\n",
            "Subtraction -1\n",
            "Multiplication 2\n",
            "Division that returns integers 0\n",
            "Division that returns actual value 0.5\n"
          ],
          "name": "stdout"
        }
      ]
    },
    {
      "cell_type": "code",
      "metadata": {
        "colab": {
          "base_uri": "https://localhost:8080/"
        },
        "id": "XlO_kVYewWkq",
        "outputId": "7426ac15-cb55-4211-d640-9f0d83b6ecdf"
      },
      "source": [
        "#Q4\n",
        "x=1\n",
        "y=5\n",
        "print(\"Bitwise OR\",x|y)\n",
        "print(\"Bitwise AND\",x&y)\n",
        "print(\"Bitwise XOR\",x^y)\n",
        "print(\"Bitwise NOT for y\",~y)\n",
        "print(\"Bitwise Left Shift \",x<<1)\n",
        "print(\"Bitwise Right Shift\",x>>1)\n"
      ],
      "execution_count": 13,
      "outputs": [
        {
          "output_type": "stream",
          "text": [
            "Bitwise OR 5\n",
            "Bitwise AND 1\n",
            "Bitwise XOR 4\n",
            "Bitwise NOT for y -6\n",
            "Bitwise Left Shift  2\n",
            "Bitwise Right Shift 0\n"
          ],
          "name": "stdout"
        }
      ]
    },
    {
      "cell_type": "code",
      "metadata": {
        "colab": {
          "base_uri": "https://localhost:8080/"
        },
        "id": "rDcyxQ_CwlRh",
        "outputId": "4de4bd76-ce58-4900-93ef-131e9451f594"
      },
      "source": [
        "#Q5\n",
        "x=int(input(\"Enter 1st number\"))\n",
        "y=int(input(\"Enter 2nd number\"))\n",
        "print(\"Sum of 2 numbers =\",(x+y))"
      ],
      "execution_count": 19,
      "outputs": [
        {
          "output_type": "stream",
          "text": [
            "Enter 1st number5\n",
            "Enter 2nd number6\n",
            "Sum of 2 numbers = 11\n"
          ],
          "name": "stdout"
        }
      ]
    },
    {
      "cell_type": "code",
      "metadata": {
        "colab": {
          "base_uri": "https://localhost:8080/"
        },
        "id": "_-Yje3az02CC",
        "outputId": "4e92339e-5635-4299-f1d1-cfde0dcd194e"
      },
      "source": [
        "#Q6\n",
        "x=int(input(\"Enter a number\"))\n",
        "if x%2==0:\n",
        "  print(\"The number is even\")\n",
        "else:\n",
        "  print(\"The number is odd\")"
      ],
      "execution_count": 23,
      "outputs": [
        {
          "output_type": "stream",
          "text": [
            "Enter a number6\n",
            "The number is even\n"
          ],
          "name": "stdout"
        }
      ]
    },
    {
      "cell_type": "code",
      "metadata": {
        "id": "UkQ1q6Xi1rUy"
      },
      "source": [
        ""
      ],
      "execution_count": null,
      "outputs": []
    }
  ]
}